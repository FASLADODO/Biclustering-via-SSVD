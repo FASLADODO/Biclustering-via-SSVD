{
 "cells": [
  {
   "cell_type": "code",
   "execution_count": 1,
   "metadata": {},
   "outputs": [
    {
     "name": "stdout",
     "output_type": "stream",
     "text": [
      "Requirement already satisfied: ssvd in /opt/conda/lib/python3.6/site-packages\n",
      "\u001b[33mYou are using pip version 9.0.1, however version 10.0.1 is available.\n",
      "You should consider upgrading via the 'pip install --upgrade pip' command.\u001b[0m\n"
     ]
    }
   ],
   "source": [
    "!pip install ssvd"
   ]
  },
  {
   "cell_type": "code",
   "execution_count": 3,
   "metadata": {},
   "outputs": [],
   "source": [
    "import numpy as np\n",
    "from ssvd import ssvd"
   ]
  },
  {
   "cell_type": "code",
   "execution_count": 4,
   "metadata": {},
   "outputs": [],
   "source": [
    "#construct simulation data set in the paper\n",
    "s=50\n",
    "\n",
    "#construct u\n",
    "u_tilde = np.concatenate((np.array([10,9,8,7,6,5,4,3]),np.repeat(2,17),\n",
    "                          np.repeat(0,75)), axis=0)\n",
    "u = u_tilde/np.linalg.norm(u_tilde)#normalize\n",
    "\n",
    "#construct v\n",
    "v_tilde = np.concatenate((np.array([10,-10,8,-8,5,-5]),np.repeat(3,5),\n",
    "                        np.repeat(-3,5),np.repeat(0,34)),axis=0)\n",
    "v = v_tilde/np.linalg.norm(v_tilde)#normalize"
   ]
  },
  {
   "cell_type": "code",
   "execution_count": 5,
   "metadata": {},
   "outputs": [],
   "source": [
    "# create vectors for storing\n",
    "num_zeros_u = np.zeros(100)\n",
    "prop_zeros_u_identified = np.zeros(100)\n",
    "prop_non_zeros_u_identified = np.zeros(100)\n",
    "missclass_u = np.zeros(100)\n",
    "\n",
    "num_zeros_v = np.zeros(100)\n",
    "prop_zeros_v_identified = np.zeros(100)\n",
    "prop_non_zeros_v_identified = np.zeros(100)\n",
    "missclass_v = np.zeros(100)"
   ]
  },
  {
   "cell_type": "code",
   "execution_count": 6,
   "metadata": {},
   "outputs": [],
   "source": [
    "# generate X* simulated datasets.\n",
    "X_star = 50*u.reshape(len(u),1) @ v.reshape(1,len(v))"
   ]
  },
  {
   "cell_type": "code",
   "execution_count": 7,
   "metadata": {},
   "outputs": [],
   "source": [
    "# calculate the SVD of the matrix\n",
    "U, s, V = np.linalg.svd(X_star)"
   ]
  },
  {
   "cell_type": "markdown",
   "metadata": {},
   "source": [
    "SSVD"
   ]
  },
  {
   "cell_type": "code",
   "execution_count": 8,
   "metadata": {},
   "outputs": [],
   "source": [
    "for i in range(100):\n",
    "    #generator noise from a normal distribution in each iteraion\n",
    "    X = X_star + np.random.normal(0,1,100*50).reshape(100,50)\n",
    "    U, s, V = np.linalg.svd(X)\n",
    "    u0 = U.T[0]\n",
    "    v0 = V.T[0]\n",
    "    Upred, Vpred, s, niter = ssvd(X)\n",
    "    ## store answers\n",
    "    num_zeros_u[i] = np.sum(Upred == 0)\n",
    "    num_zeros_v[i] = np.sum(Vpred == 0)\n",
    "    prop_zeros_u_identified[i] = np.sum(Upred[np.where(u == 0)] == 0)*100/np.sum(u==0)\n",
    "    prop_zeros_v_identified[i] = np.sum(Vpred[np.where(v == 0)] == 0)*100/np.sum(v==0)\n",
    "    prop_non_zeros_u_identified[i] = np.sum(Upred[np.where(u != 0)]!=0)*100/np.sum(u!=0)\n",
    "    prop_non_zeros_v_identified[i] = np.sum(Vpred[np.where(v != 0)]!=0)*100/np.sum(v!=0)\n",
    "    missclass_u[i] = sum(np.sign(u) != np.sign(Upred)*(-1))*100/100\n",
    "    missclass_v[i] = sum(np.sign(v) != np.sign(Vpred)*(-1))*100/50"
   ]
  },
  {
   "cell_type": "code",
   "execution_count": 9,
   "metadata": {},
   "outputs": [
    {
     "data": {
      "text/plain": [
       "74.23"
      ]
     },
     "execution_count": 9,
     "metadata": {},
     "output_type": "execute_result"
    }
   ],
   "source": [
    "np.mean(num_zeros_u)"
   ]
  },
  {
   "cell_type": "code",
   "execution_count": 10,
   "metadata": {},
   "outputs": [
    {
     "data": {
      "text/plain": [
       "33.84"
      ]
     },
     "execution_count": 10,
     "metadata": {},
     "output_type": "execute_result"
    }
   ],
   "source": [
    "np.mean(num_zeros_v)"
   ]
  },
  {
   "cell_type": "code",
   "execution_count": 11,
   "metadata": {},
   "outputs": [
    {
     "data": {
      "text/plain": [
       "99.16"
      ]
     },
     "execution_count": 11,
     "metadata": {},
     "output_type": "execute_result"
    }
   ],
   "source": [
    "np.mean(prop_non_zeros_u_identified)"
   ]
  },
  {
   "cell_type": "code",
   "execution_count": 12,
   "metadata": {},
   "outputs": [
    {
     "data": {
      "text/plain": [
       "100.0"
      ]
     },
     "execution_count": 12,
     "metadata": {},
     "output_type": "execute_result"
    }
   ],
   "source": [
    "np.mean(prop_non_zeros_v_identified)"
   ]
  },
  {
   "cell_type": "code",
   "execution_count": 13,
   "metadata": {},
   "outputs": [
    {
     "data": {
      "text/plain": [
       "98.69333333333333"
      ]
     },
     "execution_count": 13,
     "metadata": {},
     "output_type": "execute_result"
    }
   ],
   "source": [
    "np.mean(prop_zeros_u_identified)"
   ]
  },
  {
   "cell_type": "code",
   "execution_count": 14,
   "metadata": {},
   "outputs": [
    {
     "data": {
      "text/plain": [
       "99.52941176470587"
      ]
     },
     "execution_count": 14,
     "metadata": {},
     "output_type": "execute_result"
    }
   ],
   "source": [
    "np.mean(prop_zeros_v_identified)"
   ]
  },
  {
   "cell_type": "code",
   "execution_count": 15,
   "metadata": {},
   "outputs": [
    {
     "data": {
      "text/plain": [
       "1.19"
      ]
     },
     "execution_count": 15,
     "metadata": {},
     "output_type": "execute_result"
    }
   ],
   "source": [
    "np.mean(missclass_u)"
   ]
  },
  {
   "cell_type": "code",
   "execution_count": 16,
   "metadata": {},
   "outputs": [
    {
     "data": {
      "text/plain": [
       "0.32"
      ]
     },
     "execution_count": 16,
     "metadata": {},
     "output_type": "execute_result"
    }
   ],
   "source": [
    "np.mean(missclass_v)"
   ]
  },
  {
   "cell_type": "markdown",
   "metadata": {},
   "source": [
    "SVD"
   ]
  },
  {
   "cell_type": "code",
   "execution_count": 18,
   "metadata": {},
   "outputs": [],
   "source": [
    "for i in range(100):\n",
    "    #generator noise from a normal distribution in each iteraion\n",
    "    X = X_star + np.random.normal(0,1,100*50).reshape(100,50)\n",
    "    Upred, s, Vpred = np.linalg.svd(X)\n",
    "    Upred = Upred.T[0]\n",
    "    Vpred = Vpred.T[0]\n",
    "    ## store answers\n",
    "    num_zeros_u[i] = np.sum(Upred == 0)\n",
    "    num_zeros_v[i] = np.sum(Vpred == 0)\n",
    "    prop_zeros_u_identified[i] = np.sum(Upred[np.where(u == 0)] == 0)*100/np.sum(u==0)\n",
    "    prop_zeros_v_identified[i] = np.sum(Vpred[np.where(v == 0)] == 0)*100/np.sum(v==0)\n",
    "    prop_non_zeros_u_identified[i] = np.sum(Upred[np.where(u != 0)]!=0)*100/np.sum(u!=0)\n",
    "    prop_non_zeros_v_identified[i] = np.sum(Vpred[np.where(v != 0)]!=0)*100/np.sum(v!=0)\n",
    "    missclass_u[i] = sum(np.sign(u) != np.sign(Upred)*(-1))*100/100\n",
    "    missclass_v[i] = sum(np.sign(v) != np.sign(Vpred)*(-1))*100/50"
   ]
  },
  {
   "cell_type": "code",
   "execution_count": 19,
   "metadata": {},
   "outputs": [
    {
     "data": {
      "text/plain": [
       "0.0"
      ]
     },
     "execution_count": 19,
     "metadata": {},
     "output_type": "execute_result"
    }
   ],
   "source": [
    "np.mean(num_zeros_u)"
   ]
  },
  {
   "cell_type": "code",
   "execution_count": 20,
   "metadata": {},
   "outputs": [
    {
     "data": {
      "text/plain": [
       "0.0"
      ]
     },
     "execution_count": 20,
     "metadata": {},
     "output_type": "execute_result"
    }
   ],
   "source": [
    "np.mean(num_zeros_v)"
   ]
  },
  {
   "cell_type": "code",
   "execution_count": 21,
   "metadata": {},
   "outputs": [
    {
     "data": {
      "text/plain": [
       "100.0"
      ]
     },
     "execution_count": 21,
     "metadata": {},
     "output_type": "execute_result"
    }
   ],
   "source": [
    "np.mean(prop_non_zeros_u_identified)"
   ]
  },
  {
   "cell_type": "code",
   "execution_count": 22,
   "metadata": {},
   "outputs": [
    {
     "data": {
      "text/plain": [
       "100.0"
      ]
     },
     "execution_count": 22,
     "metadata": {},
     "output_type": "execute_result"
    }
   ],
   "source": [
    "np.mean(prop_non_zeros_v_identified)"
   ]
  },
  {
   "cell_type": "code",
   "execution_count": 23,
   "metadata": {},
   "outputs": [
    {
     "data": {
      "text/plain": [
       "0.0"
      ]
     },
     "execution_count": 23,
     "metadata": {},
     "output_type": "execute_result"
    }
   ],
   "source": [
    "np.mean(prop_zeros_u_identified)"
   ]
  },
  {
   "cell_type": "code",
   "execution_count": 24,
   "metadata": {},
   "outputs": [
    {
     "data": {
      "text/plain": [
       "0.0"
      ]
     },
     "execution_count": 24,
     "metadata": {},
     "output_type": "execute_result"
    }
   ],
   "source": [
    "np.mean(prop_zeros_v_identified)"
   ]
  },
  {
   "cell_type": "code",
   "execution_count": 25,
   "metadata": {},
   "outputs": [
    {
     "data": {
      "text/plain": [
       "75.0"
      ]
     },
     "execution_count": 25,
     "metadata": {},
     "output_type": "execute_result"
    }
   ],
   "source": [
    "np.mean(missclass_u)"
   ]
  },
  {
   "cell_type": "code",
   "execution_count": 26,
   "metadata": {},
   "outputs": [
    {
     "data": {
      "text/plain": [
       "82.6"
      ]
     },
     "execution_count": 26,
     "metadata": {},
     "output_type": "execute_result"
    }
   ],
   "source": [
    "np.mean(missclass_v)"
   ]
  }
 ],
 "metadata": {
  "kernelspec": {
   "display_name": "Python 3",
   "language": "python",
   "name": "python3"
  },
  "language_info": {
   "codemirror_mode": {
    "name": "ipython",
    "version": 3
   },
   "file_extension": ".py",
   "mimetype": "text/x-python",
   "name": "python",
   "nbconvert_exporter": "python",
   "pygments_lexer": "ipython3",
   "version": "3.6.5"
  }
 },
 "nbformat": 4,
 "nbformat_minor": 2
}
