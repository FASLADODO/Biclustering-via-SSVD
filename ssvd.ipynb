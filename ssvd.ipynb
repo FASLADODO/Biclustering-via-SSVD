{
 "cells": [
  {
   "cell_type": "code",
   "execution_count": 13,
   "metadata": {},
   "outputs": [],
   "source": [
    "import numpy as np\n",
    "import math\n",
    "from numba import jit\n",
    "import seaborn as sns\n",
    "import matplotlib.pyplot as plt\n",
    "import pandas as pd\n",
    "import time"
   ]
  },
  {
   "cell_type": "markdown",
   "metadata": {},
   "source": [
    "Simulate data set"
   ]
  },
  {
   "cell_type": "code",
   "execution_count": 148,
   "metadata": {},
   "outputs": [],
   "source": [
    "#construct simulation data set in the paper\n",
    "\n",
    "#set seed\n",
    "np.random.seed(1)\n",
    "s=50\n",
    "\n",
    "#construct u\n",
    "u_tilde = np.concatenate((np.array([10,9,8,7,6,5,4,3]),np.repeat(2,17),\n",
    "                          np.repeat(0,75)), axis=0)\n",
    "u = u_tilde/np.linalg.norm(u_tilde)#normalize\n",
    "u=u.reshape(len(u),1)#u is 100 x 1\n",
    "\n",
    "#construct v\n",
    "v_tilde=np.concatenate((np.array([10,-10,8,-8,5,-5]),np.repeat(3,5),\n",
    "                        np.repeat(-3,5),np.repeat(0,34)),axis=0)\n",
    "v = v_tilde/np.linalg.norm(v_tilde)#normalize\n",
    "v=v.reshape(1,len(v))#v is 1 x 50\n",
    "\n",
    "#construct noise matrix epsilon\n",
    "epsilon=np.random.normal(0,1,100*50).reshape(100,50) #100 x 50\n",
    "\n",
    "#construct X=X^*+epsilon==suv^T+epsilon\n",
    "X = s*u@v + epsilon"
   ]
  },
  {
   "cell_type": "markdown",
   "metadata": {},
   "source": [
    "Thresh function"
   ]
  },
  {
   "cell_type": "code",
   "execution_count": 3,
   "metadata": {},
   "outputs": [],
   "source": [
    "def thresh(z,delta):\n",
    "    return np.sign(z)*(np.abs(z) >= delta)*(np.abs(z)-delta)"
   ]
  },
  {
   "cell_type": "markdown",
   "metadata": {},
   "source": [
    "Unoptimized ssvd function"
   ]
  },
  {
   "cell_type": "code",
   "execution_count": 4,
   "metadata": {},
   "outputs": [],
   "source": [
    "def ssvd(X, gamma_u = 2, gamma_v = 2, merr = 10**(-4), niter = 100):\n",
    "    #rank 1\n",
    "    U,s,V = np.linalg.svd(X)#initial svd\n",
    "    u0 = U.T[0] \n",
    "    v0 = V.T[0]\n",
    "\n",
    "    n=X.shape[0]\n",
    "    d=X.shape[1]\n",
    "    ud = 1\n",
    "    vd = 1\n",
    "    iters = 0\n",
    "    SST = np.sum(X*X)\n",
    "\n",
    "    while (ud > merr or vd > merr):\n",
    "        iters = iters + 1\n",
    "\n",
    "        #update v\n",
    "        z=X.T @ u0#initial OLS estimator (of the coefficients)\n",
    "        w_v_inv=np.abs(z) ** gamma_v#inverse of adapative weight \n",
    "        sig_sq=np.abs(SST-np.sum(z*z))/(n*d-d)#OLS estimate of the error variance\n",
    "        tmp=z*w_v_inv\n",
    "        tv=np.unique(np.sort(np.append(np.abs(tmp),0)))#possible lambda set\n",
    "        Bv = np.ones(len(tv)-1)*np.Inf\n",
    "        index=np.where(w_v_inv>10^-8)\n",
    "        tmp1=tmp[index]\n",
    "        w_v_inv1=w_v_inv[index]\n",
    "        for i in range(len(Bv)):\n",
    "            temp2 = thresh(tmp1,delta = tv[i])\n",
    "            temp2 = temp2/w_v_inv1\n",
    "            temp3 = np.zeros(d)\n",
    "            temp3[index] = temp2\n",
    "            Bv[i] = np.sum((X - u0[:,None] @ temp3[None,:])**2)/sig_sq + np.sum(temp2!=0)*math.log(n*d)\n",
    "        Iv = min(np.where(Bv== np.min(Bv)))\n",
    "        th = tv[Iv]\n",
    "        temp2 = thresh(tmp1,delta = th)\n",
    "        temp2 = temp2/w_v_inv1\n",
    "        v1 = np.zeros(d)\n",
    "        v1[index] = temp2\n",
    "        v1 = v1/((np.sum(v1*v1))**0.5) #v_new\n",
    "\n",
    "        #update v\n",
    "        z=X @ v1#initial OLS estimator (of the coefficients)\n",
    "        w_u_inv=np.abs(z) ** gamma_u#inverse of adapative weight \n",
    "        sig_sq=np.abs(SST-np.sum(z*z))/(n*d-n)#OLS estimate of the error variance\n",
    "        tmp=z*w_u_inv\n",
    "        tv=np.unique(np.sort(np.append(np.abs(tmp),0)))#possible lambda set\n",
    "        Bu = np.ones(len(tv)-1)*np.Inf\n",
    "        index=np.where(w_u_inv>10^-8)\n",
    "        tmp1=tmp[index]\n",
    "        w_u_inv1=w_u_inv[index]\n",
    "        for i in range(len(Bu)):\n",
    "            temp2 = thresh(tmp1,delta = tv[i])\n",
    "            temp2 = temp2/w_u_inv1\n",
    "            temp3 = np.zeros(n)\n",
    "            temp3[index] = temp2\n",
    "            Bu[i] =  np.sum((X - temp3[:,None] @ v1[None,:])**2)/sig_sq + np.sum(temp2!=0)*math.log(n*d)\n",
    "        Iu = min(np.where(Bu== np.min(Bu)))\n",
    "        th = tv[Iu]\n",
    "        temp2 = thresh(tmp1,delta = th)\n",
    "        temp2 = temp2/w_u_inv1\n",
    "        u1 = np.zeros(n)\n",
    "        u1[index] = temp2\n",
    "        u1 = u1/((np.sum(u1*u1))**0.5) #u_new\n",
    "\n",
    "        ud = np.sum((u0-u1)*(u0-u1))**0.5\n",
    "        vd = np.sum((v0-v1)*(v0-v1))**0.5\n",
    "\n",
    "        if iters > niter :\n",
    "            print(\"Fail to converge! Increase the niter!\")\n",
    "            break\n",
    "\n",
    "        u0 = u1\n",
    "        v0 = v1\n",
    "\n",
    "    s = u1[None, :] @ X @ v1[:, None]\n",
    "    return u1, v1, s, iters"
   ]
  },
  {
   "cell_type": "code",
   "execution_count": 5,
   "metadata": {},
   "outputs": [
    {
     "name": "stdout",
     "output_type": "stream",
     "text": [
      " "
     ]
    }
   ],
   "source": [
    "%prun ssvd(X)"
   ]
  },
  {
   "cell_type": "markdown",
   "metadata": {},
   "source": [
    "JIT decorator for optimization"
   ]
  },
  {
   "cell_type": "code",
   "execution_count": 5,
   "metadata": {},
   "outputs": [],
   "source": [
    "@jit\n",
    "def thresh_jit(z,delta):\n",
    "    return np.sign(z)*(np.abs(z) >= delta)*(np.abs(z)-delta)"
   ]
  },
  {
   "cell_type": "code",
   "execution_count": 6,
   "metadata": {},
   "outputs": [],
   "source": [
    "def ssvd_jit(X, gamma_u = 2, gamma_v = 2, merr = 10**(-4), niter = 100):\n",
    "    #rank 1\n",
    "    U,s,V = np.linalg.svd(X)#initial svd\n",
    "    u0 = U.T[0] \n",
    "    v0 = V.T[0]\n",
    "\n",
    "    n=X.shape[0]\n",
    "    d=X.shape[1]\n",
    "    ud = 1\n",
    "    vd = 1\n",
    "    iters = 0\n",
    "    SST = np.sum(X*X)\n",
    "\n",
    "    while (ud > merr or vd > merr):\n",
    "        iters = iters + 1\n",
    "\n",
    "        #update v\n",
    "        z=X.T @ u0#initial OLS estimator (of the coefficients)\n",
    "        w_v_inv=np.abs(z) ** gamma_v#inverse of adapative weight \n",
    "        sig_sq=np.abs(SST-np.sum(z*z))/(n*d-d)#OLS estimate of the error variance\n",
    "        tmp=z*w_v_inv\n",
    "        tv=np.unique(np.sort(np.append(np.abs(tmp),0)))#possible lambda set\n",
    "        Bv = np.ones(len(tv)-1)*np.Inf\n",
    "        index=np.where(w_v_inv>10^-8)\n",
    "        tmp1=tmp[index]\n",
    "        w_v_inv1=w_v_inv[index]\n",
    "        for i in range(len(Bv)):\n",
    "            temp2 = thresh_jit(tmp1,delta = tv[i])\n",
    "            temp2 = temp2/w_v_inv1\n",
    "            temp3 = np.zeros(d)\n",
    "            temp3[index] = temp2\n",
    "            Bv[i] = np.sum((X - u0[:,None] @ temp3[None,:])**2)/sig_sq + np.sum(temp2!=0)*math.log(n*d)\n",
    "        Iv = min(np.where(Bv== np.min(Bv)))\n",
    "        th = tv[Iv]\n",
    "        temp2 = thresh_jit(tmp1,delta = th)\n",
    "        temp2 = temp2/w_v_inv1\n",
    "        v1 = np.zeros(d)\n",
    "        v1[index] = temp2\n",
    "        v1 = v1/((np.sum(v1*v1))**0.5) #v_new\n",
    "\n",
    "        #update v\n",
    "        z=X @ v1#initial OLS estimator (of the coefficients)\n",
    "        w_u_inv=np.abs(z) ** gamma_u#inverse of adapative weight \n",
    "        sig_sq=np.abs(SST-np.sum(z*z))/(n*d-n)#OLS estimate of the error variance\n",
    "        tmp=z*w_u_inv\n",
    "        tv=np.unique(np.sort(np.append(np.abs(tmp),0)))#possible lambda set\n",
    "        Bu = np.ones(len(tv)-1)*np.Inf\n",
    "        index=np.where(w_u_inv>10^-8)\n",
    "        tmp1=tmp[index]\n",
    "        w_u_inv1=w_u_inv[index]\n",
    "        for i in range(len(Bu)):\n",
    "            temp2 = thresh_jit(tmp1,delta = tv[i])\n",
    "            temp2 = temp2/w_u_inv1\n",
    "            temp3 = np.zeros(n)\n",
    "            temp3[index] = temp2\n",
    "            Bu[i] =  np.sum((X - temp3[:,None] @ v1[None,:])**2)/sig_sq + np.sum(temp2!=0)*math.log(n*d)\n",
    "        Iu = min(np.where(Bu== np.min(Bu)))\n",
    "        th = tv[Iu]\n",
    "        temp2 = thresh_jit(tmp1,delta = th)\n",
    "        temp2 = temp2/w_u_inv1\n",
    "        u1 = np.zeros(n)\n",
    "        u1[index] = temp2\n",
    "        u1 = u1/((np.sum(u1*u1))**0.5) #u_new\n",
    "\n",
    "        ud = np.sum((u0-u1)*(u0-u1))**0.5\n",
    "        vd = np.sum((v0-v1)*(v0-v1))**0.5\n",
    "\n",
    "        if iters > niter :\n",
    "            print(\"Fail to converge! Increase the niter!\")\n",
    "            break\n",
    "\n",
    "        u0 = u1\n",
    "        v0 = v1\n",
    "\n",
    "    s = u1[None, :] @ X @ v1[:, None]\n",
    "    return u1, v1, s, iters"
   ]
  },
  {
   "cell_type": "code",
   "execution_count": 50,
   "metadata": {},
   "outputs": [],
   "source": [
    "from ipyparallel import Client\n",
    "rc = Client()\n",
    "dv = rc[:]\n",
    "\n",
    "@dv.parallel(block=True)\n",
    "\n",
    "def thresh(z,delta):\n",
    "    return np.sign(z)*(np.abs(z) >= delta)*(np.abs(z)-delta)\n",
    "\n",
    "def ssvd(X, gamma_u = 2, gamma_v = 2, merr = 10**(-4), niter = 100):\n",
    "    #rank 1\n",
    "    U,s,V = np.linalg.svd(X)#initial svd\n",
    "    u0 = U.T[0] \n",
    "    v0 = V.T[0]\n",
    "\n",
    "    n=X.shape[0]\n",
    "    d=X.shape[1]\n",
    "    ud = 1\n",
    "    vd = 1\n",
    "    iters = 0\n",
    "    SST = np.sum(X*X)\n",
    "\n",
    "    while (ud > merr or vd > merr):\n",
    "        iters = iters + 1\n",
    "\n",
    "        #update v\n",
    "        z=X.T @ u0#initial OLS estimator (of the coefficients)\n",
    "        w_v_inv=np.abs(z) ** gamma_v#inverse of adapative weight \n",
    "        sig_sq=np.abs(SST-np.sum(z*z))/(n*d-d)#OLS estimate of the error variance\n",
    "        tmp=z*w_v_inv\n",
    "        tv=np.unique(np.sort(np.append(np.abs(tmp),0)))#possible lambda set\n",
    "        Bv = np.ones(len(tv)-1)*np.Inf\n",
    "        index=np.where(w_v_inv>10^-8)\n",
    "        tmp1=tmp[index]\n",
    "        w_v_inv1=w_v_inv[index]\n",
    "        for i in range(len(Bv)):\n",
    "            temp2 = thresh(tmp1,delta = tv[i])\n",
    "            temp2 = temp2/w_v_inv1\n",
    "            temp3 = np.zeros(d)\n",
    "            temp3[index] = temp2\n",
    "            Bv[i] = np.sum((X - u0[:,None] @ temp3[None,:])**2)/sig_sq + np.sum(temp2!=0)*math.log(n*d)\n",
    "        Iv = min(np.where(Bv== np.min(Bv)))\n",
    "        th = tv[Iv]\n",
    "        temp2 = thresh(tmp1,delta = th)\n",
    "        temp2 = temp2/w_v_inv1\n",
    "        v1 = np.zeros(d)\n",
    "        v1[index] = temp2\n",
    "        v1 = v1/((np.sum(v1*v1))**0.5) #v_new\n",
    "\n",
    "        #update v\n",
    "        z=X @ v1#initial OLS estimator (of the coefficients)\n",
    "        w_u_inv=np.abs(z) ** gamma_u#inverse of adapative weight \n",
    "        sig_sq=np.abs(SST-np.sum(z*z))/(n*d-n)#OLS estimate of the error variance\n",
    "        tmp=z*w_u_inv\n",
    "        tv=np.unique(np.sort(np.append(np.abs(tmp),0)))#possible lambda set\n",
    "        Bu = np.ones(len(tv)-1)*np.Inf\n",
    "        index=np.where(w_u_inv>10^-8)\n",
    "        tmp1=tmp[index]\n",
    "        w_u_inv1=w_u_inv[index]\n",
    "        for i in range(len(Bu)):\n",
    "            temp2 = thresh(tmp1,delta = tv[i])\n",
    "            temp2 = temp2/w_u_inv1\n",
    "            temp3 = np.zeros(n)\n",
    "            temp3[index] = temp2\n",
    "            Bu[i] =  np.sum((X - temp3[:,None] @ v1[None,:])**2)/sig_sq + np.sum(temp2!=0)*math.log(n*d)\n",
    "        Iu = min(np.where(Bu== np.min(Bu)))\n",
    "        th = tv[Iu]\n",
    "        temp2 = thresh(tmp1,delta = th)\n",
    "        temp2 = temp2/w_u_inv1\n",
    "        u1 = np.zeros(n)\n",
    "        u1[index] = temp2\n",
    "        u1 = u1/((np.sum(u1*u1))**0.5) #u_new\n",
    "\n",
    "        ud = np.sum((u0-u1)*(u0-u1))**0.5\n",
    "        vd = np.sum((v0-v1)*(v0-v1))**0.5\n",
    "\n",
    "        if iters > niter :\n",
    "            print(\"Fail to converge! Increase the niter!\")\n",
    "            break\n",
    "\n",
    "        u0 = u1\n",
    "        v0 = v1\n",
    "\n",
    "    s = u1[None, :] @ X @ v1[:, None]\n",
    "    return u1, v1, s, iters"
   ]
  },
  {
   "cell_type": "code",
   "execution_count": 48,
   "metadata": {},
   "outputs": [
    {
     "name": "stdout",
     "output_type": "stream",
     "text": [
      "4.43 ms ± 46.3 µs per loop (mean ± std. dev. of 7 runs, 100 loops each)\n"
     ]
    }
   ],
   "source": [
    "%%timeit\n",
    "from concurrent.futures import ThreadPoolExecutor\n",
    "\n",
    "with ThreadPoolExecutor(max_workers=4) as pool:\n",
    "    res = pool.map(lambda x: ssvd(x), X)"
   ]
  },
  {
   "cell_type": "code",
   "execution_count": 7,
   "metadata": {},
   "outputs": [
    {
     "name": "stdout",
     "output_type": "stream",
     "text": [
      "43.8 ms ± 1.34 ms per loop (mean ± std. dev. of 7 runs, 10 loops each)\n"
     ]
    }
   ],
   "source": [
    "%timeit ssvd(X)"
   ]
  },
  {
   "cell_type": "code",
   "execution_count": 8,
   "metadata": {},
   "outputs": [
    {
     "name": "stdout",
     "output_type": "stream",
     "text": [
      "39.1 ms ± 1.61 ms per loop (mean ± std. dev. of 7 runs, 1 loop each)\n"
     ]
    }
   ],
   "source": [
    "%timeit ssvd_jit(X)"
   ]
  },
  {
   "cell_type": "code",
   "execution_count": 51,
   "metadata": {
    "scrolled": true
   },
   "outputs": [
    {
     "name": "stdout",
     "output_type": "stream",
     "text": [
      "5.15 ms ± 296 µs per loop (mean ± std. dev. of 7 runs, 100 loops each)\n"
     ]
    }
   ],
   "source": [
    "%timeit dv.map(lambda x: ssvd(x), X)"
   ]
  },
  {
   "cell_type": "markdown",
   "metadata": {},
   "source": [
    "Compare output of ssvd functions to ensure results are correct."
   ]
  },
  {
   "cell_type": "code",
   "execution_count": 10,
   "metadata": {
    "scrolled": true
   },
   "outputs": [],
   "source": [
    "np.testing.assert_array_almost_equal((ssvd_jit(X))[0], (ssvd(X))[0])"
   ]
  },
  {
   "cell_type": "markdown",
   "metadata": {},
   "source": [
    "Application to simulated data sets"
   ]
  },
  {
   "cell_type": "code",
   "execution_count": 13,
   "metadata": {},
   "outputs": [],
   "source": [
    "#1st layer on simulated data\n",
    "res1 = ssvd_jit(X)\n",
    "X_star_1=res1[2]*res1[0][:,None]*res1[1][None,:]\n",
    "\n",
    "#2nd layer\n",
    "res2=ssvd_jit(X-X_star_1)\n",
    "X_star_2=res2[2]*res2[0][:,None]*res2[1][None,:]\n",
    "\n",
    "#3rd layer\n",
    "res3=ssvd_jit(X-X_star_1-X_star_2,merr=10**(-2))\n",
    "X_star_3=res3[2]*res3[0][:,None]*res3[1][None,:]"
   ]
  },
  {
   "cell_type": "code",
   "execution_count": 14,
   "metadata": {},
   "outputs": [],
   "source": [
    "# all entries of the layers are first divided by \n",
    "# the maximum absolute value of the entries from all three layers\n",
    "Max=np.max(np.array([np.max(np.abs(X_star_1)),np.max(np.abs(X_star_2)),np.max(np.abs(X_star_3))]))\n",
    "X_star_1_scaled=X_star_1/Max\n",
    "X_star_2_scaled=X_star_2/Max\n",
    "X_star_3_scaled=X_star_3/Max\n",
    "\n",
    "#sort the coloumn of each layer based on an ascending ordering of v\n",
    "X_star_1_sorted=X_star_1_scaled[:,np.argsort(res1[1])]\n",
    "X_star_2_sorted=X_star_2_scaled[:,np.argsort(res2[1])]\n",
    "X_star_3_sorted=X_star_3_scaled[:,np.argsort(res3[1])]"
   ]
  },
  {
   "cell_type": "code",
   "execution_count": 25,
   "metadata": {},
   "outputs": [
    {
     "data": {
      "text/plain": [
       "Text(0.5,1,'1st Layer')"
      ]
     },
     "execution_count": 25,
     "metadata": {},
     "output_type": "execute_result"
    },
    {
     "data": {
      "image/png": "[encoded data removed]",
      "text/plain": [
       "<Figure size 432x288 with 2 Axes>"
      ]
     },
     "metadata": {},
     "output_type": "display_data"
    }
   ],
   "source": [
    "img1 = sns.heatmap(X_star_1_sorted,xticklabels=False, yticklabels=False,center=0,cmap=\"PiYG\")\n",
    "plt.title(\"1st Layer\")"
   ]
  },
  {
   "cell_type": "markdown",
   "metadata": {},
   "source": [
    "Application to real data sets"
   ]
  },
  {
   "cell_type": "code",
   "execution_count": 113,
   "metadata": {},
   "outputs": [],
   "source": [
    "#first we try to apply the SSVD to the lung cancer data set in the paper\n",
    "#and try to reproduce the image generated in the paper.\n",
    "#import data set\n",
    "data = np.loadtxt(\"data.txt\", dtype = \"float\", delimiter = \" \")\n",
    "X=data.T"
   ]
  },
  {
   "cell_type": "code",
   "execution_count": 9,
   "metadata": {},
   "outputs": [],
   "source": [
    "#perform ssvd on X and the residuals to extract the first three layers\n",
    "#save the extracted layers for convience\n",
    "\n",
    "#1st ssvd\n",
    "res1=ssvd_jit(X)\n",
    "#1st layer: X*=s_1*u_1(n x 1)*v_1(1 x d)\n",
    "X_star_1=res1[2]*res1[0][:,None]*res1[1][None,:]\n",
    "np.savetxt('l1',X_star_1)\n",
    "\n",
    "#2nd ssvd\n",
    "res2=ssvd_jit(X-l1)\n",
    "#2nd layer: X*=s_2*u_2(n x 1)*v_2(1 x d)\n",
    "X_star_2=res2[2]*res2[0][:,None]*res2[1][None,:]\n",
    "np.savetxt('l2',X_star_2)\n",
    "\n",
    "#3rd ssvd\n",
    "res3=ssvd_jit(X-l1-l2,merr=10**(-2))\n",
    "#3rd layer: X*=s_3*u_3(n x 1)*v_3(1 x d)\n",
    "X_star_3=res3[2]*res3[0][:,None]*res3[1][None,:]\n",
    "np.savetxt('l3',X_star_3)"
   ]
  },
  {
   "cell_type": "code",
   "execution_count": 48,
   "metadata": {},
   "outputs": [],
   "source": [
    "#load the saved layers\n",
    "l1 = np.loadtxt(\"l1\", dtype = \"float\", delimiter = \" \")\n",
    "l2 = np.loadtxt(\"l2\", dtype = \"float\", delimiter = \" \")\n",
    "l3 = np.loadtxt(\"l3\", dtype = \"float\", delimiter = \" \")\n",
    "\n",
    "# all entries of the layers are first divided by \n",
    "# the maximum absolute value of the entries from all three layers\n",
    "Max=np.max(np.array([np.max(np.abs(l1)),np.max(np.abs(l2)),np.max(np.abs(l3))]))\n",
    "l1_scaled=l1/Max\n",
    "l2_scaled=l2/Max\n",
    "l3_scaled=l3/Max\n",
    "\n",
    "#sort the coloumn of each layer based on an ascending ordering of v\n",
    "l1_sorted=l1_scaled[:,np.argsort(res1[1])]\n",
    "l2_sorted=l2_scaled[:,np.argsort(res2[1])]\n",
    "l3_sorted=l3_scaled[:,np.argsort(res3[1])]\n"
   ]
  },
  {
   "cell_type": "code",
   "execution_count": 74,
   "metadata": {},
   "outputs": [],
   "source": [
    "#the information of the types of cancer is not used in the algorithm \n",
    "#but is used for interpretation of the checkboard patterns of the generated matrix approximation.\n",
    "#from the readme file, we know that among the 56 cases: the rows are arranged as following:Carcinoid:1-20;\n",
    "#Colon:21:33; Normal:34-50; SmallCell:51-56\n",
    "\n",
    "#then we want to rearrange the rows for each cancer type in each layer based on u\n",
    "index_row_1=np.concatenate((np.argsort(res1[0][:20]),np.argsort(res1[0][21:34])+20\n",
    "                            ,np.argsort(res1[0][34:51])+33,np.argsort(res1[0][51:])+51),axis=0)\n",
    "\n",
    "index_row_2=np.concatenate((np.argsort(res2[0][:20]),np.argsort(res2[0][21:34])+20\n",
    "                            ,np.argsort(res2[0][34:51])+33,np.argsort(res2[0][51:])+51),axis=0)\n",
    "\n",
    "index_row_3=np.concatenate((np.argsort(res3[0][:20]),np.argsort(res3[0][21:34])+20\n",
    "                            ,np.argsort(res3[0][34:51])+33,np.argsort(res3[0][51:])+51),axis=0)\n",
    "\n",
    "l1_plot=l1_sorted[index_row_1,:]\n",
    "l2_plot=l2_sorted[index_row_2,:]\n",
    "l3_plot=l3_sorted[index_row_3,:]\n",
    "\n",
    "#also, 8000 genes in the middle white area are excluded, otherwise the plot woudl be too long\n",
    "l1_deleted=np.delete(l1_plot,np.arange(1463,1463+8000,1),1)\n",
    "l2_deleted=np.delete(l2_plot,np.arange(1489,1489+8000,1),1)\n",
    "l3_deleted=np.delete(l3_plot,np.arange(695,695+8000,1),1)"
   ]
  },
  {
   "cell_type": "code",
   "execution_count": 94,
   "metadata": {},
   "outputs": [
    {
     "data": {
      "image/png": "[encoded data removed]",
      "text/plain": [
       "<Figure size 432x288 with 2 Axes>"
      ]
     },
     "metadata": {},
     "output_type": "display_data"
    }
   ],
   "source": [
    "img1 = sns.heatmap(l1_deleted,xticklabels=False, yticklabels=False,center=0,cmap=\"PiYG\")\n",
    "img1.set(xlabel = \"Ordered Gene Index\", ylabel = \"\") \n",
    "plt.plot(list(image1.get_xlim()), [50,50], 'k--', linewidth = 0.6)\n",
    "plt.plot(list(image1.get_xlim()), [32,32], 'k--', linewidth = 0.6)\n",
    "plt.plot(list(image1.get_xlim()), [19,19], 'k--', linewidth = 0.6)\n",
    "plt.plot([1462, 1462], list(image1.get_ylim()), 'k--', linewidth = 0.6)\n",
    "plt.plot([10882-8000, 10882-8000], list(image1.get_ylim()), 'k--', linewidth = 0.6)\n",
    "plt.yticks([52,40,25,10], [\"SmallCell\", \"Normal\", \"Colon\", \"Carcinoid\"])\n",
    "plt.xticks([1462, 10882-8000], [\"1463\", \"10883\"])\n",
    "plt.title(\"1st Layer\")\n",
    "pass\n",
    "plt.savefig('l1.jpg')"
   ]
  },
  {
   "cell_type": "code",
   "execution_count": 96,
   "metadata": {},
   "outputs": [
    {
     "data": {
      "image/png": "[encoded data removed]",
      "text/plain": [
       "<Figure size 432x288 with 2 Axes>"
      ]
     },
     "metadata": {},
     "output_type": "display_data"
    }
   ],
   "source": [
    "img2 = sns.heatmap(l2_deleted,xticklabels=False, yticklabels=False,center=0,cmap=\"PiYG\")\n",
    "img2.set(xlabel = \"Ordered Gene Index\", ylabel = \"\") \n",
    "plt.plot(list(image2.get_xlim()), [50,50], 'k--', linewidth = 0.6)\n",
    "plt.plot(list(image2.get_xlim()), [32,32], 'k--', linewidth = 0.6)\n",
    "plt.plot(list(image2.get_xlim()), [19,19], 'k--', linewidth = 0.6)\n",
    "plt.plot([1489, 1489], list(image2.get_ylim()), 'k--', linewidth = 0.6)\n",
    "plt.plot([11603-8000, 11603-8000], list(image2.get_ylim()), 'k--', linewidth = 0.6)\n",
    "plt.yticks([52,40,25,10], [\"SmallCell\", \"Normal\", \"Colon\", \"Carcinoid\"])\n",
    "plt.xticks([1489, 11603-8000], [\"1489\", \"11603\"])\n",
    "plt.title(\"2nd Layer\")\n",
    "pass\n",
    "plt.savefig('l2.jpg')"
   ]
  },
  {
   "cell_type": "code",
   "execution_count": 97,
   "metadata": {},
   "outputs": [
    {
     "data": {
      "image/png": "[encoded data removed]",
      "text/plain": [
       "<Figure size 432x288 with 2 Axes>"
      ]
     },
     "metadata": {},
     "output_type": "display_data"
    }
   ],
   "source": [
    "img3 = sns.heatmap(l3_deleted,xticklabels=False, yticklabels=False,center=0,cmap=\"PiYG\")\n",
    "img3.set(xlabel = \"Ordered Gene Index\", ylabel = \"\") \n",
    "plt.plot(list(image3.get_xlim()), [50,50], 'k--', linewidth = 0.6)\n",
    "plt.plot(list(image3.get_xlim()), [32,32], 'k--', linewidth = 0.6)\n",
    "plt.plot(list(image3.get_xlim()), [19,19], 'k--', linewidth = 0.6)\n",
    "plt.plot([695, 695], list(image3.get_ylim()), 'k--', linewidth = 0.6)\n",
    "plt.plot([12099-8000, 12099-8000], list(image3.get_ylim()), 'k--', linewidth = 0.6)\n",
    "plt.yticks([52,40,25,10], [\"SmallCell\", \"Normal\", \"Colon\", \"Carcinoid\"])\n",
    "plt.xticks([695, 12099-8000], [\"695\", \"12099\"])\n",
    "plt.title(\"3rd Layer\")\n",
    "pass\n",
    "plt.savefig('l3.jpg')"
   ]
  },
  {
   "cell_type": "code",
   "execution_count": 114,
   "metadata": {},
   "outputs": [
    {
     "data": {
      "text/plain": [
       "array([[ 0.16395136, -0.68940011,  0.0903335 , ..., -0.05674101,\n",
       "        -0.3349708 ,  0.00861044],\n",
       "       [-0.08380222, -0.19013764, -0.22497703, ..., -0.08102412,\n",
       "        -0.37745715,  0.01948322],\n",
       "       [-0.14113676,  0.16980615, -0.24375927, ..., -0.19249953,\n",
       "        -0.60116433, -0.14442642],\n",
       "       ...,\n",
       "       [-0.0272442 ,  0.7945277 ,  0.36516356, ..., -0.64742524,\n",
       "        -1.08217908, -0.78665237],\n",
       "       [-0.32148505, -0.2840104 ,  0.27456986, ...,  0.01364799,\n",
       "        -0.27535703, -0.13843673],\n",
       "       [-0.20785902, -0.59103832, -0.0277307 , ...,  0.24725894,\n",
       "        -0.62006452, -0.09548951]])"
      ]
     },
     "execution_count": 114,
     "metadata": {},
     "output_type": "execute_result"
    }
   ],
   "source": [
    "X"
   ]
  },
  {
   "cell_type": "code",
   "execution_count": 7,
   "metadata": {},
   "outputs": [],
   "source": [
    "#MNIST data set\n",
    "#load data set\n",
    "mnist = np.loadtxt(\"mnist.txt\", dtype = \"float\", delimiter = \" \")\n",
    "X=mnist.T"
   ]
  },
  {
   "cell_type": "code",
   "execution_count": 8,
   "metadata": {},
   "outputs": [
    {
     "data": {
      "text/plain": [
       "(50, 439)"
      ]
     },
     "execution_count": 8,
     "metadata": {},
     "output_type": "execute_result"
    }
   ],
   "source": [
    "X.shape"
   ]
  },
  {
   "cell_type": "code",
   "execution_count": 21,
   "metadata": {},
   "outputs": [
    {
     "data": {
      "text/plain": [
       "array([[0., 0., 0., ..., 0., 0., 0.],\n",
       "       [0., 0., 0., ..., 0., 0., 0.],\n",
       "       [0., 0., 0., ..., 0., 0., 0.],\n",
       "       ...,\n",
       "       [0., 0., 0., ..., 0., 0., 0.],\n",
       "       [0., 0., 0., ..., 0., 0., 0.],\n",
       "       [0., 0., 0., ..., 0., 0., 0.]])"
      ]
     },
     "execution_count": 21,
     "metadata": {},
     "output_type": "execute_result"
    }
   ],
   "source": [
    "X"
   ]
  },
  {
   "cell_type": "code",
   "execution_count": 24,
   "metadata": {},
   "outputs": [],
   "source": [
    "#1st ssvd\n",
    "res1=ssvd(X)\n",
    "#1st layer: X*=s_1*u_1(n x 1)*v_1(1 x d)\n",
    "X_star_1=res1[2]*res1[0][:,None]*res1[1][None,:]\n",
    "\n",
    "# all entries of the layers are first divided by \n",
    "# the maximum absolute value of the entries from all three layers\n",
    "Max=np.max(np.abs(X_star_1))\n",
    "X_star_1_scaled=X_star_1/Max\n",
    "\n",
    "#sort the coloumn of each layer based on an ascending ordering of v\n",
    "X_star_1_sorted=X_star_1_scaled[:,np.argsort(res1[1])]"
   ]
  },
  {
   "cell_type": "code",
   "execution_count": 25,
   "metadata": {
    "scrolled": true
   },
   "outputs": [
    {
     "data": {
      "text/plain": [
       "Text(0.5,1,'1st Layer')"
      ]
     },
     "execution_count": 25,
     "metadata": {},
     "output_type": "execute_result"
    },
    {
     "data": {
      "image/png": "[encoded data removed]",
      "text/plain": [
       "<Figure size 432x288 with 2 Axes>"
      ]
     },
     "metadata": {},
     "output_type": "display_data"
    }
   ],
   "source": [
    "img1 = sns.heatmap(X_star_1_sorted,xticklabels=False, yticklabels=False,center=0,cmap=\"PiYG\")\n",
    "plt.title(\"1st Layer\")"
   ]
  },
  {
   "cell_type": "code",
   "execution_count": 26,
   "metadata": {},
   "outputs": [],
   "source": [
    "from sklearn.cluster.bicluster import SpectralBiclustering"
   ]
  },
  {
   "cell_type": "code",
   "execution_count": 32,
   "metadata": {},
   "outputs": [],
   "source": [
    "model = SpectralBiclustering()"
   ]
  },
  {
   "cell_type": "code",
   "execution_count": 152,
   "metadata": {
    "scrolled": false
   },
   "outputs": [
    {
     "data": {
      "text/plain": [
       "SpectralBiclustering(init='k-means++', method='bistochastic',\n",
       "           mini_batch=False, n_best=3, n_clusters=3, n_components=6,\n",
       "           n_init=10, n_jobs=1, n_svd_vecs=None, random_state=None,\n",
       "           svd_method='randomized')"
      ]
     },
     "execution_count": 152,
     "metadata": {},
     "output_type": "execute_result"
    }
   ],
   "source": [
    "model.fit(X)"
   ]
  },
  {
   "cell_type": "code",
   "execution_count": 151,
   "metadata": {},
   "outputs": [
    {
     "data": {
      "text/plain": [
       "array([[ 12.54397908, -11.53139013,   8.20753522, ...,   2.10025514,\n",
       "          0.12015895,   0.61720311],\n",
       "       [ 10.12784066, -10.17992019,   6.71961808, ...,   0.04359686,\n",
       "         -0.62000084,   0.69803203],\n",
       "       [  8.28857841,  -7.51119927,   7.39205722, ...,   0.61838026,\n",
       "          0.23249456,   0.68255141],\n",
       "       ...,\n",
       "       [  0.60063444,   1.5345797 ,   0.05044703, ...,  -0.40694634,\n",
       "         -0.36914814,   0.18065712],\n",
       "       [  0.13507455,   0.96862199,  -0.09431686, ...,  -0.96284878,\n",
       "         -1.5679603 ,  -0.15194739],\n",
       "       [ -0.43238091,  -0.03576256,   1.51281994, ...,  -0.77598779,\n",
       "          1.08488869,   2.24198946]])"
      ]
     },
     "execution_count": 151,
     "metadata": {},
     "output_type": "execute_result"
    }
   ],
   "source": [
    "X"
   ]
  },
  {
   "cell_type": "code",
   "execution_count": 153,
   "metadata": {},
   "outputs": [],
   "source": [
    "fit_data = X[np.argsort(model.row_labels_)]\n",
    "fit_data = fit_data[:, np.argsort(model.column_labels_)]"
   ]
  },
  {
   "cell_type": "code",
   "execution_count": 154,
   "metadata": {
    "scrolled": true
   },
   "outputs": [
    {
     "data": {
      "text/plain": [
       "<matplotlib.axes._subplots.AxesSubplot at 0x7f6908f21e48>"
      ]
     },
     "execution_count": 154,
     "metadata": {},
     "output_type": "execute_result"
    },
    {
     "data": {
      "image/png": "[encoded data removed]",
      "text/plain": [
       "<Figure size 432x288 with 2 Axes>"
      ]
     },
     "metadata": {},
     "output_type": "display_data"
    }
   ],
   "source": [
    "sns.heatmap(X_star,xticklabels=False, yticklabels=False,center=0,cmap=\"PiYG\")"
   ]
  },
  {
   "cell_type": "code",
   "execution_count": 155,
   "metadata": {
    "scrolled": true
   },
   "outputs": [
    {
     "data": {
      "text/plain": [
       "<matplotlib.axes._subplots.AxesSubplot at 0x7f6908adc320>"
      ]
     },
     "execution_count": 155,
     "metadata": {},
     "output_type": "execute_result"
    },
    {
     "data": {
      "image/png": "[encoded data removed]",
      "text/plain": [
       "<Figure size 432x288 with 2 Axes>"
      ]
     },
     "metadata": {},
     "output_type": "display_data"
    }
   ],
   "source": [
    "sns.heatmap(fit_data,xticklabels=False, yticklabels=False,center=0,cmap=\"PiYG\")"
   ]
  }
 ],
 "metadata": {
  "kernelspec": {
   "display_name": "Python 3",
   "language": "python",
   "name": "python3"
  },
  "language_info": {
   "codemirror_mode": {
    "name": "ipython",
    "version": 3
   },
   "file_extension": ".py",
   "mimetype": "text/x-python",
   "name": "python",
   "nbconvert_exporter": "python",
   "pygments_lexer": "ipython3",
   "version": "3.6.5"
  }
 },
 "nbformat": 4,
 "nbformat_minor": 2
}
