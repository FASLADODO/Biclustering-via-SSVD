{
 "cells": [
  {
   "cell_type": "code",
   "execution_count": 262,
   "metadata": {},
   "outputs": [],
   "source": [
    "import numpy as np\n",
    "import math\n",
    "from numba import jit"
   ]
  },
  {
   "cell_type": "markdown",
   "metadata": {},
   "source": [
    "JIT decorator optimized ssvd"
   ]
  },
  {
   "cell_type": "code",
   "execution_count": 263,
   "metadata": {},
   "outputs": [],
   "source": [
    "@jit\n",
    "def thresh_jit(z,delta):\n",
    "    return np.sign(z)*(np.abs(z) >= delta)*(np.abs(z)-delta)"
   ]
  },
  {
   "cell_type": "code",
   "execution_count": 264,
   "metadata": {},
   "outputs": [],
   "source": [
    "def ssvd_jit(X, gamma_u = 2, gamma_v = 2, merr = 10**(-4), niter = 100):\n",
    "    #rank 1\n",
    "    U,s,V=np.linalg.svd(X)#initial svd\n",
    "    u0 = U.T[0] \n",
    "    v0 = V.T[0]\n",
    "    n=X.shape[0]\n",
    "    d=X.shape[1]\n",
    "    ud = 1\n",
    "    vd = 1\n",
    "    iters = 0\n",
    "    SST = np.sum(X*X)\n",
    "\n",
    "    while (ud > merr or vd > merr):\n",
    "        iters =iters+1\n",
    "\n",
    "        #update v\n",
    "        z=X.T @ u0#initial OLS estimator (of the coefficients)\n",
    "        w_v_inv=np.abs(z) ** gamma_v#inverse of adapative weight \n",
    "        sig_sq=np.abs(SST-np.sum(z*z))/(n*d-d)#OLS estimate of the error variance\n",
    "        tmp=z*w_v_inv\n",
    "        tv=np.unique(np.sort(np.append(np.abs(tmp),0)))#possible lambda set\n",
    "        Bv = np.ones(len(tv)-1)*np.Inf\n",
    "        index=np.where(w_v_inv>10^-8)\n",
    "        tmp1=tmp[index]\n",
    "        w_v_inv1=w_v_inv[index]\n",
    "        for i in range(len(Bv)):\n",
    "            temp2 = thresh_jit(tmp1,delta = tv[i])\n",
    "            temp2 = temp2/w_v_inv1\n",
    "            temp3 = np.zeros(d)\n",
    "            temp3[index] = temp2\n",
    "            Bv[i] = np.sum((X - u0[:,None] @ temp3[None,:])**2)/sig_sq + np.sum(temp2!=0)*math.log(n*d)\n",
    "        Iv = min(np.where(Bv== np.min(Bv)))\n",
    "        th = tv[Iv]\n",
    "        temp2 = thresh_jit(tmp1,delta = th)\n",
    "        temp2 = temp2/w_v_inv1\n",
    "        v1 = np.zeros(d)\n",
    "        v1[index] = temp2\n",
    "        v1 = v1/((np.sum(v1*v1))**0.5) #v_new\n",
    "\n",
    "        #update v\n",
    "        z=X @ v1#initial OLS estimator (of the coefficients)\n",
    "        w_u_inv=np.abs(z) ** gamma_u#inverse of adapative weight \n",
    "        sig_sq=np.abs(SST-np.sum(z*z))/(n*d-n)#OLS estimate of the error variance\n",
    "        tmp=z*w_u_inv\n",
    "        tv=np.unique(np.sort(np.append(np.abs(tmp),0)))#possible lambda set\n",
    "        Bu = np.ones(len(tv)-1)*np.Inf\n",
    "        index=np.where(w_u_inv>10^-8)\n",
    "        tmp1=tmp[index]\n",
    "        w_u_inv1=w_u_inv[index]\n",
    "        for i in range(len(Bu)):\n",
    "            temp2 = thresh_jit(tmp1,delta = tv[i])\n",
    "            temp2 = temp2/w_u_inv1\n",
    "            temp3 = np.zeros(n)\n",
    "            temp3[index] = temp2\n",
    "            Bu[i] =  np.sum((X - temp3[:,None] @ v1[None,:])**2)/sig_sq + np.sum(temp2!=0)*math.log(n*d)\n",
    "        Iu = min(np.where(Bu== np.min(Bu)))\n",
    "        th = tv[Iu]\n",
    "        temp2 = thresh_jit(tmp1,delta = th)\n",
    "        temp2 = temp2/w_u_inv1\n",
    "        u1 = np.zeros(n)\n",
    "        u1[index] = temp2\n",
    "        u1 = u1/((np.sum(u1*u1))**0.5) #u_new\n",
    "\n",
    "        ud = np.sum((u0-u1)*(u0-u1))**0.5\n",
    "        vd = np.sum((v0-v1)*(v0-v1))**0.5\n",
    "\n",
    "        if iters > niter :\n",
    "            print(\"Fail to converge! Increase the niter!\")\n",
    "            break\n",
    "\n",
    "        u0 = u1\n",
    "        v0 = v1\n",
    "\n",
    "    s = u1[None, :] @ X @ v1[:, None]\n",
    "    return u1, v1, s, iters"
   ]
  },
  {
   "cell_type": "markdown",
   "metadata": {},
   "source": [
    "Application to real data sets"
   ]
  },
  {
   "cell_type": "code",
   "execution_count": 265,
   "metadata": {},
   "outputs": [],
   "source": [
    "#first we try to apply the SSVD to the lung cancer data set in the paper\n",
    "#and try to reproduce the image generated in the paper.\n",
    "import seaborn as sns\n",
    "import matplotlib.pyplot as plt\n",
    "import pandas as pd\n",
    "import time"
   ]
  },
  {
   "cell_type": "code",
   "execution_count": 266,
   "metadata": {},
   "outputs": [],
   "source": [
    "#import data set\n",
    "data = np.loadtxt(\"data.txt\", dtype = \"float\", delimiter = \" \")\n",
    "X=data.T"
   ]
  },
  {
   "cell_type": "code",
   "execution_count": 271,
   "metadata": {},
   "outputs": [],
   "source": [
    "#perform ssvd on X and the residuals to extract the first three layers\n",
    "#save the extracted layers for convience\n",
    "\n",
    "#1st ssvd\n",
    "res1=ssvd_jit(X)\n",
    "#1st layer: X*=s_1*u_1(n x 1)*v_1(1 x d)\n",
    "X_star_1=res1[2]*res1[0][:,None]*res1[1][None,:]\n",
    "np.savetxt('l1',X_star_1)\n",
    "\n",
    "#2nd ssvd\n",
    "res2=ssvd_jit(X-l1)\n",
    "#2nd layer: X*=s_2*u_2(n x 1)*v_2(1 x d)\n",
    "X_star_2=res2[2]*res2[0][:,None]*res2[1][None,:]\n",
    "np.savetxt('l2',X_star_2)\n",
    "\n",
    "#3rd ssvd\n",
    "res3=ssvd_jit(X-l1-l2,merr=10**(-2))\n",
    "#3rd layer: X*=s_3*u_3(n x 1)*v_3(1 x d)\n",
    "X_star_3=res3[2]*res3[0][:,None]*res3[1][None,:]\n",
    "np.savetxt('l3',X_star_3)"
   ]
  },
  {
   "cell_type": "code",
   "execution_count": 272,
   "metadata": {},
   "outputs": [],
   "source": [
    "#load the saved layers, load the saved file if want\n",
    "#l1 = np.loadtxt(\"l1\", dtype = ,float\", delimiter = \" \")\n",
    "#l2 = np.loadtxt(\"l2\", dtype = \"float\", delimiter = \" \")\n",
    "#l3 = np.loadtxt(\"l3\", dtype = \"float\", delimiter = \" \")\n",
    "\n",
    "# all entries of the layers are first divided by \n",
    "# the maximum absolute value of the entries from all three layers\n",
    "Max=np.max(np.array([np.max(np.abs(l1)),np.max(np.abs(l2)),np.max(np.abs(l3))]))\n",
    "l1_scaled=X_star_1/Max\n",
    "l2_scaled=X_star_2/Max\n",
    "l3_scaled=X_star_3/Max\n",
    "\n",
    "#sort the coloumn of each layer based on an ascending ordering of v\n",
    "l1_sorted=l1_scaled[:,np.argsort(res1[1])]\n",
    "l2_sorted=l2_scaled[:,np.argsort(res2[1])]\n",
    "l3_sorted=l3_scaled[:,np.argsort(res3[1])]\n"
   ]
  },
  {
   "cell_type": "code",
   "execution_count": 273,
   "metadata": {},
   "outputs": [],
   "source": [
    "#the information of the types of cancer is not used in the algorithm \n",
    "#but is used for interpretation of the checkboard patterns of the generated matrix approximation.\n",
    "#from the readme file, we know that among the 56 cases: the rows are arranged as following:Carcinoid:1-20;\n",
    "#Colon:21:33; Normal:34-50; SmallCell:51-56\n",
    "\n",
    "#then we want to rearrange the rows for each cancer type in each layer based on u\n",
    "index_row_1=np.concatenate((np.argsort(res1[0][:20]),np.argsort(res1[0][21:34])+20\n",
    "                            ,np.argsort(res1[0][34:51])+33,np.argsort(res1[0][51:])+51),axis=0)\n",
    "\n",
    "index_row_2=np.concatenate((np.argsort(res2[0][:20]),np.argsort(res2[0][21:34])+20\n",
    "                            ,np.argsort(res2[0][34:51])+33,np.argsort(res2[0][51:])+51),axis=0)\n",
    "\n",
    "index_row_3=np.concatenate((np.argsort(res3[0][:20]),np.argsort(res3[0][21:34])+20\n",
    "                            ,np.argsort(res3[0][34:51])+33,np.argsort(res3[0][51:])+51),axis=0)\n",
    "\n",
    "l1_plot=l1_sorted[index_row_1,:]\n",
    "l2_plot=l2_sorted[index_row_2,:]\n",
    "l3_plot=l3_sorted[index_row_3,:]\n",
    "\n",
    "#also, 8000 genes in the middle white area are excluded, otherwise the plot woudl be too long\n",
    "l1_deleted=np.delete(l1_plot,np.arange(1463,1463+8000,1),1)\n",
    "l2_deleted=np.delete(l2_plot,np.arange(1489,1489+8000,1),1)\n",
    "l3_deleted=np.delete(l3_plot,np.arange(695,695+8000,1),1)"
   ]
  },
  {
   "cell_type": "code",
   "execution_count": 275,
   "metadata": {},
   "outputs": [
    {
     "data": {
      "image/png": "[encoded data removed]",
      "text/plain": [
       "<Figure size 432x288 with 2 Axes>"
      ]
     },
     "metadata": {},
     "output_type": "display_data"
    }
   ],
   "source": [
    "img1 = sns.heatmap(l1_deleted,xticklabels=False, yticklabels=False,center=0,cmap=\"PiYG\")\n",
    "img1.set(xlabel = \"Ordered Gene Index\", ylabel = \"\") \n",
    "plt.plot(list(img1.get_xlim()), [50,50], 'k--', linewidth = 0.6)\n",
    "plt.plot(list(img1.get_xlim()), [32,32], 'k--', linewidth = 0.6)\n",
    "plt.plot(list(img1.get_xlim()), [19,19], 'k--', linewidth = 0.6)\n",
    "plt.plot([1462, 1462], list(img1.get_ylim()), 'k--', linewidth = 0.6)\n",
    "plt.plot([10882-8000, 10882-8000], list(img1.get_ylim()), 'k--', linewidth = 0.6)\n",
    "plt.yticks([52,40,25,10], [\"SmallCell\", \"Normal\", \"Colon\", \"Carcinoid\"])\n",
    "plt.xticks([1462, 10882-8000], [\"1463\", \"10883\"])\n",
    "plt.title(\"1st Layer\")\n",
    "pass\n",
    "plt.savefig('l1.jpg')"
   ]
  },
  {
   "cell_type": "code",
   "execution_count": 276,
   "metadata": {},
   "outputs": [
    {
     "data": {
      "image/png": "[encoded data removed]",
      "text/plain": [
       "<Figure size 432x288 with 2 Axes>"
      ]
     },
     "metadata": {},
     "output_type": "display_data"
    }
   ],
   "source": [
    "img2 = sns.heatmap(l2_deleted,xticklabels=False, yticklabels=False,center=0,cmap=\"PiYG\")\n",
    "img2.set(xlabel = \"Ordered Gene Index\", ylabel = \"\") \n",
    "plt.plot(list(img2.get_xlim()), [50,50], 'k--', linewidth = 0.6)\n",
    "plt.plot(list(img2.get_xlim()), [32,32], 'k--', linewidth = 0.6)\n",
    "plt.plot(list(img2.get_xlim()), [19,19], 'k--', linewidth = 0.6)\n",
    "plt.plot([1489, 1489], list(img2.get_ylim()), 'k--', linewidth = 0.6)\n",
    "plt.plot([11603-8000, 11603-8000], list(img2.get_ylim()), 'k--', linewidth = 0.6)\n",
    "plt.yticks([52,40,25,10], [\"SmallCell\", \"Normal\", \"Colon\", \"Carcinoid\"])\n",
    "plt.xticks([1489, 11603-8000], [\"1489\", \"11603\"])\n",
    "plt.title(\"2nd Layer\")\n",
    "pass\n",
    "plt.savefig('l2.jpg')"
   ]
  },
  {
   "cell_type": "code",
   "execution_count": 277,
   "metadata": {},
   "outputs": [
    {
     "data": {
      "image/png": "[encoded data removed]",
      "text/plain": [
       "<Figure size 432x288 with 2 Axes>"
      ]
     },
     "metadata": {},
     "output_type": "display_data"
    }
   ],
   "source": [
    "img3 = sns.heatmap(l3_deleted,xticklabels=False, yticklabels=False,center=0,cmap=\"PiYG\")\n",
    "img3.set(xlabel = \"Ordered Gene Index\", ylabel = \"\") \n",
    "plt.plot(list(img3.get_xlim()), [50,50], 'k--', linewidth = 0.6)\n",
    "plt.plot(list(img3.get_xlim()), [32,32], 'k--', linewidth = 0.6)\n",
    "plt.plot(list(img3.get_xlim()), [19,19], 'k--', linewidth = 0.6)\n",
    "plt.plot([695, 695], list(img3.get_ylim()), 'k--', linewidth = 0.6)\n",
    "plt.plot([12099-8000, 12099-8000], list(img3.get_ylim()), 'k--', linewidth = 0.6)\n",
    "plt.yticks([52,40,25,10], [\"SmallCell\", \"Normal\", \"Colon\", \"Carcinoid\"])\n",
    "plt.xticks([695, 12099-8000], [\"695\", \"12099\"])\n",
    "plt.title(\"3rd Layer\")\n",
    "pass\n",
    "plt.savefig('l3.jpg')"
   ]
  },
  {
   "cell_type": "code",
   "execution_count": 279,
   "metadata": {},
   "outputs": [],
   "source": [
    "#load data set\n",
    "new = np.loadtxt(\"pro.txt\", dtype = \"float\", delimiter = \" \")\n",
    "X=new.T"
   ]
  },
  {
   "cell_type": "code",
   "execution_count": 280,
   "metadata": {},
   "outputs": [
    {
     "data": {
      "text/plain": [
       "(102, 339)"
      ]
     },
     "execution_count": 280,
     "metadata": {},
     "output_type": "execute_result"
    }
   ],
   "source": [
    "X.shape"
   ]
  },
  {
   "cell_type": "code",
   "execution_count": 281,
   "metadata": {},
   "outputs": [
    {
     "data": {
      "text/plain": [
       "array([[ 10. , 130.1, 412.6, ..., 506.3, 765.5,  30. ],\n",
       "       [201. , 488. , 547. , ..., 901. , 803. , 216. ],\n",
       "       [ 10. ,  13. ,  28. , ..., 108. ,  10. ,  10. ],\n",
       "       ...,\n",
       "       [405. , 649. , 980. , ...,  82. , 542. , 198. ],\n",
       "       [238. , 280. , 695. , ..., 598. , 786. , 334. ],\n",
       "       [243. , 616. , 616. , ..., 148. , 997. , 181. ]])"
      ]
     },
     "execution_count": 281,
     "metadata": {},
     "output_type": "execute_result"
    }
   ],
   "source": [
    "X"
   ]
  },
  {
   "cell_type": "code",
   "execution_count": 282,
   "metadata": {},
   "outputs": [
    {
     "data": {
      "text/plain": [
       "15753.0"
      ]
     },
     "execution_count": 282,
     "metadata": {},
     "output_type": "execute_result"
    }
   ],
   "source": [
    "np.max(X)"
   ]
  },
  {
   "cell_type": "code",
   "execution_count": 283,
   "metadata": {},
   "outputs": [
    {
     "data": {
      "text/plain": [
       "10.0"
      ]
     },
     "execution_count": 283,
     "metadata": {},
     "output_type": "execute_result"
    }
   ],
   "source": [
    "np.min(X)"
   ]
  },
  {
   "cell_type": "code",
   "execution_count": 284,
   "metadata": {},
   "outputs": [
    {
     "data": {
      "text/plain": [
       "array([97138.51178757, 45036.80110527, 22298.9436974 , 17363.84199194,\n",
       "       13005.7494972 ,  9498.64885526,  6464.88200017,  5829.91990071,\n",
       "        5184.25838971,  5051.0286632 ,  5012.98939558,  4772.66572412,\n",
       "        4528.86740364,  4220.09289558,  3818.62323361,  3666.01390514,\n",
       "        3441.50178872,  3385.38365003,  3310.67792144,  3202.73245813,\n",
       "        3017.16504737,  2880.05706701,  2735.42554256,  2550.5933535 ,\n",
       "        2525.38622315,  2405.41597061,  2337.8844811 ,  2228.65371874,\n",
       "        2163.85399836,  2042.96095005,  1984.90404713,  1925.29021263,\n",
       "        1895.40506187,  1853.56577051,  1791.99956371,  1739.52125331,\n",
       "        1671.11487637,  1615.12486068,  1589.49729228,  1561.01266562,\n",
       "        1516.97305442,  1479.72153563,  1450.31154207,  1428.28920653,\n",
       "        1396.98416318,  1372.80761113,  1350.26712028,  1309.15050531,\n",
       "        1298.8072786 ,  1270.08507185,  1228.46139338,  1221.76026109,\n",
       "        1155.5536316 ,  1147.15290152,  1131.7473243 ,  1122.35577303,\n",
       "        1094.90576423,  1062.29080068,  1016.63622337,   969.65213756,\n",
       "         960.646797  ,   947.71941086,   917.36805009,   909.13287762,\n",
       "         881.7181257 ,   876.72039412,   852.1635996 ,   841.78557067,\n",
       "         817.23082985,   810.66665183,   780.44921131,   771.13261658,\n",
       "         764.00376338,   753.15061697,   721.14528725,   710.03231014,\n",
       "         700.27844596,   662.96893039,   650.88694096,   622.84519322,\n",
       "         621.66836971,   592.86250799,   581.64713338,   566.60732572,\n",
       "         552.69053566,   528.01226867,   527.43740665,   522.55746358,\n",
       "         513.40950558,   494.50115574,   478.51454442,   473.99987611,\n",
       "         466.34347101,   446.04590661,   434.48684965,   425.49255799,\n",
       "         408.50855416,   395.22896324,   388.48067966,   362.51419042,\n",
       "         355.55853964,   330.09033646])"
      ]
     },
     "execution_count": 284,
     "metadata": {},
     "output_type": "execute_result"
    }
   ],
   "source": [
    "#the first singular value is much larger than the other, so 1st layer\n",
    "U,s,V=np.linalg.svd(X)\n",
    "s"
   ]
  },
  {
   "cell_type": "code",
   "execution_count": 285,
   "metadata": {},
   "outputs": [],
   "source": [
    "#1st ssvd\n",
    "res_m_1=ssvd_jit(X,niter=100)\n",
    "#1st layer: X*=s_1*u_1(n x 1)*v_1(1 x d)\n",
    "X_star_m_1=res_m_1[2]*res_m_1[0][:,None]*res_m_1[1][None,:]\n",
    "np.savetxt('l1_m',X_star_m_1)"
   ]
  },
  {
   "cell_type": "code",
   "execution_count": 286,
   "metadata": {},
   "outputs": [],
   "source": [
    "#load the stored data\n",
    "l1_m = np.loadtxt(\"l1_m\", dtype = \"float\", delimiter = \" \")"
   ]
  },
  {
   "cell_type": "code",
   "execution_count": 287,
   "metadata": {},
   "outputs": [
    {
     "data": {
      "text/plain": [
       "array([[167.57880596, 405.68742979, 531.95276136, ..., 570.6466707 ,\n",
       "        598.33164028, 135.0453228 ],\n",
       "       [110.18497501, 266.74410917, 349.76500386, ..., 375.20669029,\n",
       "        393.40987335,  88.79383901],\n",
       "       [121.94614617, 295.21644058, 387.09900587, ..., 415.25634413,\n",
       "        435.40253939,  98.27171509],\n",
       "       ...,\n",
       "       [147.01306091, 355.90032095, 466.67001389, ..., 500.61529724,\n",
       "        524.90268905, 118.47217882],\n",
       "       [114.58682797, 277.40044727, 363.73799899, ..., 390.1960723 ,\n",
       "        409.12646644,  92.34112323],\n",
       "       [122.26293393, 295.98334431, 388.10459915, ..., 416.33508364,\n",
       "        436.53361404,  98.52700217]])"
      ]
     },
     "execution_count": 287,
     "metadata": {},
     "output_type": "execute_result"
    }
   ],
   "source": [
    "l1_m"
   ]
  },
  {
   "cell_type": "code",
   "execution_count": 288,
   "metadata": {},
   "outputs": [],
   "source": [
    "# all entries of the layers are first divided by \n",
    "# the maximum absolute value of the entries from all three layers\n",
    "Max=np.max(np.abs(l1_m))\n",
    "l1_m_scaled=l1_m/Max\n",
    "\n",
    "#sort the coloumn of each layer based on an ascending ordering of v\n",
    "l1_m_sorted=l1_m_scaled[:,np.argsort(res_m_1[1])]\n",
    "\n",
    "#sort the coloumn of each number based on an ascending ordering of u\n",
    "#index_row_1=np.concatenate((np.argsort(res_m_1[0][:21]),np.argsort(res_m_1[0][22::])+21),axis=0)\n",
    "#l1_m_plot=l1_m_scaled[index_row_1,:]"
   ]
  },
  {
   "cell_type": "code",
   "execution_count": 289,
   "metadata": {},
   "outputs": [
    {
     "data": {
      "text/plain": [
       "array([[0.02595905, 0.06284363, 0.08240296, ..., 0.0883969 , 0.09268548,\n",
       "        0.0209194 ],\n",
       "       [0.01706837, 0.04132041, 0.05418088, ..., 0.05812197, 0.06094176,\n",
       "        0.01375475],\n",
       "       [0.01889025, 0.04573096, 0.05996417, ..., 0.06432592, 0.0674467 ,\n",
       "        0.01522293],\n",
       "       ...,\n",
       "       [0.02277328, 0.05513129, 0.07229023, ..., 0.07754858, 0.08131086,\n",
       "        0.01835211],\n",
       "       [0.01775025, 0.04297114, 0.05634539, ..., 0.06044392, 0.06337636,\n",
       "        0.01430424],\n",
       "       [0.01893933, 0.04584975, 0.06011994, ..., 0.06449303, 0.06762191,\n",
       "        0.01526248]])"
      ]
     },
     "execution_count": 289,
     "metadata": {},
     "output_type": "execute_result"
    }
   ],
   "source": [
    "l1_m_scaled"
   ]
  },
  {
   "cell_type": "code",
   "execution_count": 290,
   "metadata": {},
   "outputs": [
    {
     "data": {
      "image/png": "[encoded data removed]",
      "text/plain": [
       "<Figure size 432x288 with 2 Axes>"
      ]
     },
     "metadata": {},
     "output_type": "display_data"
    }
   ],
   "source": [
    "imgm1 = sns.heatmap(l1_m_sorted,xticklabels=False, yticklabels=False,center=0,cmap=\"PiYG\")\n",
    "imgm1.set(xlabel = \"pixel position\", ylabel = \"\") \n",
    "plt.title(\"1st Layer\")\n",
    "plt.plot(list(imgm1.get_xlim()), [21,21], 'k--', linewidth = 0.6)\n",
    "#plt.yticks([13,36], [\"4\", \"9\"])\n",
    "pass\n",
    "plt.savefig('l1_m.jpg')"
   ]
  }
 ],
 "metadata": {
  "kernelspec": {
   "display_name": "Python 3",
   "language": "python",
   "name": "python3"
  },
  "language_info": {
   "codemirror_mode": {
    "name": "ipython",
    "version": 3
   },
   "file_extension": ".py",
   "mimetype": "text/x-python",
   "name": "python",
   "nbconvert_exporter": "python",
   "pygments_lexer": "ipython3",
   "version": "3.6.5"
  }
 },
 "nbformat": 4,
 "nbformat_minor": 2
}
